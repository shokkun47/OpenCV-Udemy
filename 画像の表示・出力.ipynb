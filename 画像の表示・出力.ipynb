{
 "cells": [
  {
   "cell_type": "code",
   "execution_count": 1,
   "id": "feb9e09d-bf3d-4d3e-b093-ece173b7a51d",
   "metadata": {},
   "outputs": [],
   "source": [
    "import cv2\n",
    "import os"
   ]
  },
  {
   "cell_type": "code",
   "execution_count": 2,
   "id": "057ab37e-c00e-46d3-839e-c3bde7c66a6d",
   "metadata": {},
   "outputs": [],
   "source": [
    "img = cv2.imread(\"src/Berry.jpg\")"
   ]
  },
  {
   "cell_type": "code",
   "execution_count": 3,
   "id": "e02826bf-6534-4b85-8247-2b990c63a950",
   "metadata": {},
   "outputs": [
    {
     "data": {
      "text/plain": [
       "(589, 960, 3)"
      ]
     },
     "execution_count": 3,
     "metadata": {},
     "output_type": "execute_result"
    }
   ],
   "source": [
    "img.shape"
   ]
  },
  {
   "cell_type": "code",
   "execution_count": 4,
   "id": "0298abc4-274b-42ba-a0de-af8675df39a3",
   "metadata": {},
   "outputs": [
    {
     "data": {
      "text/plain": [
       "array([128, 176, 194], dtype=uint8)"
      ]
     },
     "execution_count": 4,
     "metadata": {},
     "output_type": "execute_result"
    }
   ],
   "source": [
    "img[0][0]"
   ]
  },
  {
   "cell_type": "code",
   "execution_count": 10,
   "id": "7cace5ba-55ed-4f61-9503-5c3bbeeee4f7",
   "metadata": {},
   "outputs": [],
   "source": [
    "cv2.imshow(\"img\", img)\n",
    "cv2.waitKey(0)\n",
    "cv2.destroyAllWindows()"
   ]
  },
  {
   "cell_type": "code",
   "execution_count": 6,
   "id": "eba15356-fa17-47ba-8268-3a127d3ea327",
   "metadata": {},
   "outputs": [],
   "source": [
    "os.mkdir(\"/output\")"
   ]
  },
  {
   "cell_type": "code",
   "execution_count": 11,
   "id": "cde853d5-6bb0-43e6-9954-5c021dbcc7e8",
   "metadata": {},
   "outputs": [
    {
     "data": {
      "text/plain": [
       "True"
      ]
     },
     "execution_count": 11,
     "metadata": {},
     "output_type": "execute_result"
    }
   ],
   "source": [
    "cv2.imwrite(\"output/test.jpg\", img)"
   ]
  },
  {
   "cell_type": "code",
   "execution_count": null,
   "id": "ace64618-f5ee-490e-9e24-2af17af13d7e",
   "metadata": {},
   "outputs": [],
   "source": []
  }
 ],
 "metadata": {
  "kernelspec": {
   "display_name": "Python 3 (ipykernel)",
   "language": "python",
   "name": "python3"
  },
  "language_info": {
   "codemirror_mode": {
    "name": "ipython",
    "version": 3
   },
   "file_extension": ".py",
   "mimetype": "text/x-python",
   "name": "python",
   "nbconvert_exporter": "python",
   "pygments_lexer": "ipython3",
   "version": "3.12.3"
  }
 },
 "nbformat": 4,
 "nbformat_minor": 5
}
