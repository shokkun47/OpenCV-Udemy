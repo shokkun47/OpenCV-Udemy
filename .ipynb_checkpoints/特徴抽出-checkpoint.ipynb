{
 "cells": [
  {
   "cell_type": "code",
   "execution_count": 1,
   "id": "ba7f7e33-ba2a-487f-8cd4-5b0488b46f76",
   "metadata": {},
   "outputs": [],
   "source": [
    "import cv2\n",
    "import numpy as np\n",
    "import copy"
   ]
  },
  {
   "cell_type": "code",
   "execution_count": 2,
   "id": "be9acc59-5671-4919-972a-836926c11670",
   "metadata": {},
   "outputs": [],
   "source": [
    "img = cv2.imread(\"src/buildings.jpg\")\n",
    "img_g = cv2.imread(\"src/buildings.jpg\",0)"
   ]
  },
  {
   "cell_type": "code",
   "execution_count": 6,
   "id": "5c5f0d32-3761-4503-89fd-8692354933b4",
   "metadata": {},
   "outputs": [],
   "source": [
    "img_harris = copy.deepcopy(img)\n",
    "img_dst = cv2.cornerHarris(img_g, 2, 3, 0.04)"
   ]
  },
  {
   "cell_type": "code",
   "execution_count": 7,
   "id": "d31b8bad-fbd5-463a-86e5-4f5732898e78",
   "metadata": {},
   "outputs": [],
   "source": [
    "img_harris[img_dst > 0.05 * img_dst.max()] = [0, 0, 255]"
   ]
  },
  {
   "cell_type": "code",
   "execution_count": 8,
   "id": "19f038c4-0121-4f3d-9245-9aa21494fab0",
   "metadata": {},
   "outputs": [],
   "source": [
    "cv2.imshow(\"inpaint\", img_harris)\n",
    "cv2.waitKey(0)\n",
    "cv2.destroyAllWindows()"
   ]
  }
 ],
 "metadata": {
  "kernelspec": {
   "display_name": "Python 3 (ipykernel)",
   "language": "python",
   "name": "python3"
  },
  "language_info": {
   "codemirror_mode": {
    "name": "ipython",
    "version": 3
   },
   "file_extension": ".py",
   "mimetype": "text/x-python",
   "name": "python",
   "nbconvert_exporter": "python",
   "pygments_lexer": "ipython3",
   "version": "3.12.3"
  }
 },
 "nbformat": 4,
 "nbformat_minor": 5
}
