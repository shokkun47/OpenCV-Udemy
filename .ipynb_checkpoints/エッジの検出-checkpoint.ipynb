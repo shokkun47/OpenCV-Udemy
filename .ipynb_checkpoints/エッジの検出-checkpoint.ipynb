{
 "cells": [
  {
   "cell_type": "code",
   "execution_count": 1,
   "id": "246c7df1-d71b-4b1c-a5d8-a127807f815d",
   "metadata": {},
   "outputs": [],
   "source": [
    "import cv2"
   ]
  },
  {
   "cell_type": "code",
   "execution_count": 16,
   "id": "34c5771a-e09b-4bbc-a627-f4094d968527",
   "metadata": {},
   "outputs": [],
   "source": [
    "img =  cv2.imread(\"src/Lena.jpg\",0)"
   ]
  },
  {
   "cell_type": "code",
   "execution_count": 21,
   "id": "747eb710-e661-4653-aa47-f8647897dbff",
   "metadata": {},
   "outputs": [],
   "source": [
    "img_carry = cv2.Canny(img, 10, 200)\n",
    "cv2.imshow(\"Canny\",img_carry)\n",
    "cv2.waitKey(0)\n",
    "cv2.destroyAllWindows()"
   ]
  },
  {
   "cell_type": "code",
   "execution_count": null,
   "id": "90eb01bd-0355-48de-9704-d0f8e4c88afc",
   "metadata": {},
   "outputs": [],
   "source": []
  }
 ],
 "metadata": {
  "kernelspec": {
   "display_name": "Python 3 (ipykernel)",
   "language": "python",
   "name": "python3"
  },
  "language_info": {
   "codemirror_mode": {
    "name": "ipython",
    "version": 3
   },
   "file_extension": ".py",
   "mimetype": "text/x-python",
   "name": "python",
   "nbconvert_exporter": "python",
   "pygments_lexer": "ipython3",
   "version": "3.12.3"
  }
 },
 "nbformat": 4,
 "nbformat_minor": 5
}
