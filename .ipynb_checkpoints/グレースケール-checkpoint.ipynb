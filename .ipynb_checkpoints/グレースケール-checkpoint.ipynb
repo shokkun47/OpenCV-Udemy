{
 "cells": [
  {
   "cell_type": "code",
   "execution_count": 1,
   "id": "47f9425a-86a7-43ca-b2c1-06d5f2639fa7",
   "metadata": {},
   "outputs": [],
   "source": [
    "import cv2"
   ]
  },
  {
   "cell_type": "code",
   "execution_count": 2,
   "id": "fa4b1ad0-16f6-437c-80ce-7a79d9bf437e",
   "metadata": {},
   "outputs": [],
   "source": [
    "img_gray2 = cv2.imread(\"src/grapes.jpg\", 0)"
   ]
  },
  {
   "cell_type": "code",
   "execution_count": 3,
   "id": "900ba873-0e9e-480a-8df8-1164c5b9978f",
   "metadata": {},
   "outputs": [],
   "source": [
    "cv2.imshow(\"gray\", img_gray2)\n",
    "cv2.waitKey(0)\n",
    "cv2.destroyAllWindows()"
   ]
  },
  {
   "cell_type": "code",
   "execution_count": null,
   "id": "6ed48ff5-ec8a-4c7e-bf5d-e5e0cec7fd51",
   "metadata": {},
   "outputs": [],
   "source": []
  }
 ],
 "metadata": {
  "kernelspec": {
   "display_name": "Python 3 (ipykernel)",
   "language": "python",
   "name": "python3"
  },
  "language_info": {
   "codemirror_mode": {
    "name": "ipython",
    "version": 3
   },
   "file_extension": ".py",
   "mimetype": "text/x-python",
   "name": "python",
   "nbconvert_exporter": "python",
   "pygments_lexer": "ipython3",
   "version": "3.12.3"
  }
 },
 "nbformat": 4,
 "nbformat_minor": 5
}
