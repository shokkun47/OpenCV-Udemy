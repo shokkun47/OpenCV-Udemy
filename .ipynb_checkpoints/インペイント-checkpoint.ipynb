{
 "cells": [
  {
   "cell_type": "code",
   "execution_count": 1,
   "id": "a9ad3c09-7c9f-43ec-aec6-46c0e6c481dd",
   "metadata": {},
   "outputs": [],
   "source": [
    "import cv2\n",
    "import numpy as np"
   ]
  },
  {
   "cell_type": "code",
   "execution_count": 6,
   "id": "bb3f4201-2ad3-4029-8ba0-08d58c1c6b1d",
   "metadata": {},
   "outputs": [],
   "source": [
    "img = cv2.imread(\"src/Bus.jpg\")\n",
    "img_mask = cv2.imread(\"src/Mask.jpg\", 0)\n",
    "cv2.imshow(\"Mask\", img_mask)\n",
    "cv2.imshow(\"img\", img)\n",
    "cv2.waitKey(0)\n",
    "cv2.destroyAllWindows()"
   ]
  },
  {
   "cell_type": "code",
   "execution_count": 7,
   "id": "233e0758-4149-4827-ae97-ac1064b1001d",
   "metadata": {},
   "outputs": [],
   "source": [
    "thresh = 1\n",
    "ret, img_bin = cv2.threshold(img_mask, thresh, 255, cv2.THRESH_BINARY)\n",
    "cv2.imshow(\"img\", img_bin)\n",
    "cv2.waitKey(0)\n",
    "cv2.destroyAllWindows()"
   ]
  },
  {
   "cell_type": "code",
   "execution_count": 8,
   "id": "4c1c834e-16cd-42ad-9e30-14cc9694b83d",
   "metadata": {},
   "outputs": [],
   "source": [
    "img_dst = cv2.inpaint(img, img_bin, 3, cv2.INPAINT_NS)\n",
    "cv2.imshow(\"img\", img)\n",
    "cv2.imshow(\"inpaint\", img_dst)\n",
    "cv2.waitKey(0)\n",
    "cv2.destroyAllWindows()"
   ]
  }
 ],
 "metadata": {
  "kernelspec": {
   "display_name": "Python 3 (ipykernel)",
   "language": "python",
   "name": "python3"
  },
  "language_info": {
   "codemirror_mode": {
    "name": "ipython",
    "version": 3
   },
   "file_extension": ".py",
   "mimetype": "text/x-python",
   "name": "python",
   "nbconvert_exporter": "python",
   "pygments_lexer": "ipython3",
   "version": "3.12.3"
  }
 },
 "nbformat": 4,
 "nbformat_minor": 5
}
