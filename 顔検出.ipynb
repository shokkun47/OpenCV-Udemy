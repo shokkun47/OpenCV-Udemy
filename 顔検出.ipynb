{
 "cells": [
  {
   "cell_type": "code",
   "execution_count": 64,
   "id": "e596f374-f4c3-48ec-93fa-eea93e8224d0",
   "metadata": {},
   "outputs": [],
   "source": [
    "import cv2"
   ]
  },
  {
   "cell_type": "code",
   "execution_count": 65,
   "id": "67aabb37-c1f0-48ce-8fb1-0263812aaaae",
   "metadata": {},
   "outputs": [],
   "source": [
    "HAAR_FILE = \"C:/Users/shoki/Anaconda3/pkgs/opencv-4.6.0-py312h14b9924_5/Library/etc/haarcascades/haarcascade_frontalface_default.xml\"\n",
    "cascade = cv2.CascadeClassifier(HAAR_FILE)"
   ]
  },
  {
   "cell_type": "code",
   "execution_count": 66,
   "id": "8284b871-a82c-47bb-ba63-3a6a1f7f3486",
   "metadata": {},
   "outputs": [],
   "source": [
    "img = cv2.imread(\"src/Solvay_conference_1927.jpg\")\n",
    "img_g = cv2.imread(\"src/Solvey_conference_1927.jpg\", 0)\n",
    "cv2.imshow(\"img\", img)\n",
    "cv2.waitKey(0)\n",
    "cv2.destroyAllWindows()"
   ]
  },
  {
   "cell_type": "code",
   "execution_count": 67,
   "id": "dcb74b80-e1db-44b3-b7e3-cc73f34f1e6f",
   "metadata": {},
   "outputs": [],
   "source": [
    "face = cascade.detectMultiScale(img_g)"
   ]
  },
  {
   "cell_type": "code",
   "execution_count": 68,
   "id": "4c7a5aaf-a8b8-432c-995d-68cebbb518c2",
   "metadata": {},
   "outputs": [],
   "source": [
    "for x, y, w, h in face:\n",
    "    cv2.rectangle(img, (x, y), (x+w, y+h), (0,0,255), 1)\n",
    "cv2.imshow(\"img\", img)\n",
    "cv2.waitKey(0)\n",
    "cv2.destroyAllWindows()"
   ]
  }
 ],
 "metadata": {
  "kernelspec": {
   "display_name": "Python 3 (ipykernel)",
   "language": "python",
   "name": "python3"
  },
  "language_info": {
   "codemirror_mode": {
    "name": "ipython",
    "version": 3
   },
   "file_extension": ".py",
   "mimetype": "text/x-python",
   "name": "python",
   "nbconvert_exporter": "python",
   "pygments_lexer": "ipython3",
   "version": "3.12.3"
  }
 },
 "nbformat": 4,
 "nbformat_minor": 5
}
